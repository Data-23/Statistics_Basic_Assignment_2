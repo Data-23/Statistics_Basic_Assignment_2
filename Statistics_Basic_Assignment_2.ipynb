{
 "cells": [
  {
   "cell_type": "code",
   "execution_count": 1,
   "id": "cc61f8cf",
   "metadata": {},
   "outputs": [],
   "source": [
    "import seaborn as sns\n",
    "import numpy as np"
   ]
  },
  {
   "cell_type": "code",
   "execution_count": null,
   "id": "7cd4c555",
   "metadata": {},
   "outputs": [],
   "source": [
    "##Q1"
   ]
  },
  {
   "cell_type": "code",
   "execution_count": null,
   "id": "6cac372e",
   "metadata": {},
   "outputs": [],
   "source": [
    "# The three measures of central tendency are:\n",
    "\n",
    "# Mean: The mean, or average, is calculated by summing all the values in a dataset and then dividing by the number of values. It is sensitive to outliers and can be skewed by extreme values.\n",
    "\n",
    "# Median: The median is the middle value in a dataset when the values are arranged in ascending or descending order. If there is an even number of values, the median is the average of the two middle values. The median is less affected by outliers and skewed data.\n",
    "\n",
    "# Mode: The mode is the value that occurs most frequently in a dataset. A dataset may have one mode, more than one mode (bimodal or multimodal), or no mode at all if all values are unique.\n",
    "\n",
    "# These measures are used to summarize a set of data with a single value that represents the center or typical value of the dataset.\n",
    "\n",
    "\n",
    "\n",
    "\n",
    "\n"
   ]
  },
  {
   "cell_type": "code",
   "execution_count": null,
   "id": "0c042784",
   "metadata": {},
   "outputs": [],
   "source": [
    "##Q2"
   ]
  },
  {
   "cell_type": "code",
   "execution_count": null,
   "id": "c5e47694",
   "metadata": {},
   "outputs": [],
   "source": [
    "# The mean, median, and mode are all measures of central tendency, but they each capture different aspects of a dataset and can tell us different things about the data. Here’s how they differ and how they are used:\n",
    "\n",
    "# Mean\n",
    "# Definition: The mean (or average) is calculated by summing all the values in a dataset and then dividing by the number of values.\n",
    "\n",
    "\n",
    "# Usage:\n",
    "\n",
    "# The mean provides a measure of the central location of the data.\n",
    "# It is sensitive to outliers and extreme values, which can skew the mean.\n",
    "# The mean is often used in situations where all values are considered equally important and where the data distribution is symmetric.\n",
    "# Median\n",
    "# Definition: The median is the middle value when the values in a dataset are arranged in ascending or descending order. If the dataset has an even number of values, the median is the average of the two middle values.\n",
    "\n",
    "# Usage:\n",
    "\n",
    "# The median is less affected by outliers and skewed data, making it a better measure of central tendency for skewed distributions or datasets with outliers.\n",
    "# It is used when the dataset has non-symmetric distributions or when the central value is needed without the influence of extreme values.\n",
    "# The median provides a better representation of the \"typical\" value in a dataset with significant outliers or non-normal distribution.\n",
    "# Mode\n",
    "# Definition: The mode is the value that appears most frequently in a dataset. A dataset can have one mode, more than one mode (bimodal or multimodal), or no mode if all values are unique.\n",
    "\n",
    "# Usage:\n",
    "\n",
    "# The mode is useful for categorical data where we wish to know which is the most common category.\n",
    "# It is also useful in identifying the most frequent value in a dataset.\n",
    "# The mode is not affected by outliers but might not provide a useful measure of central tendency if the dataset is very diverse with many unique values.\n",
    "# Comparison and Usage in Different Scenarios\n",
    "# Symmetric Distribution: For symmetric distributions without outliers, the mean, median, and mode are all approximately the same and provide a good measure of the central tendency.\n",
    "# Skewed Distribution: For skewed distributions, the median is often preferred because it is not influenced by extreme values.\n",
    "# Categorical Data: The mode is most useful for categorical data where you want to know the most common category.\n",
    "# Outliers: The median is the best measure of central tendency when there are outliers, as it is not affected by extreme values, unlike the mean.\n",
    "# In summary, the choice of which measure to use depends on the nature of the data and the specific insights one wishes to gain:\n",
    "\n",
    "# Use the mean for data without significant outliers or skewness.\n",
    "# Use the median for skewed data or data with outliers.\n",
    "# Use the mode for categorical data or to find the most frequent value."
   ]
  },
  {
   "cell_type": "code",
   "execution_count": null,
   "id": "b9a61350",
   "metadata": {},
   "outputs": [],
   "source": [
    "#Q3"
   ]
  },
  {
   "cell_type": "code",
   "execution_count": 4,
   "id": "3fe2d0f1",
   "metadata": {},
   "outputs": [
    {
     "name": "stdout",
     "output_type": "stream",
     "text": [
      "177.01875 177.0\n"
     ]
    }
   ],
   "source": [
    "l1 = [178,177,176,177,178.2,178,175,179,180,175,178.9,176.2,177,172.5,178,176.5]\n",
    "\n",
    "print(np.mean(l1),np.median(l1))\n"
   ]
  },
  {
   "cell_type": "code",
   "execution_count": 5,
   "id": "db378350",
   "metadata": {},
   "outputs": [],
   "source": [
    "from scipy import stats"
   ]
  },
  {
   "cell_type": "code",
   "execution_count": 6,
   "id": "1d916b8a",
   "metadata": {},
   "outputs": [
    {
     "data": {
      "text/plain": [
       "ModeResult(mode=177.0, count=3)"
      ]
     },
     "execution_count": 6,
     "metadata": {},
     "output_type": "execute_result"
    }
   ],
   "source": [
    "stats.mode(l1)"
   ]
  },
  {
   "cell_type": "code",
   "execution_count": null,
   "id": "ec6d5c27",
   "metadata": {},
   "outputs": [],
   "source": [
    "#Q4"
   ]
  },
  {
   "cell_type": "code",
   "execution_count": 7,
   "id": "073b09dd",
   "metadata": {},
   "outputs": [
    {
     "data": {
      "text/plain": [
       "1.7885814036548633"
      ]
     },
     "execution_count": 7,
     "metadata": {},
     "output_type": "execute_result"
    }
   ],
   "source": [
    "l2 = [178,177,176,177,178.2,178,175,179,180,175,178.9,176.2,177,172.5,178,176.5]\n",
    "\n",
    "\n",
    "\n",
    "np.std(l2)"
   ]
  },
  {
   "cell_type": "code",
   "execution_count": null,
   "id": "32909ac2",
   "metadata": {},
   "outputs": [],
   "source": [
    "#Q5"
   ]
  },
  {
   "cell_type": "code",
   "execution_count": null,
   "id": "e8c6d759",
   "metadata": {},
   "outputs": [],
   "source": [
    "# Measures of dispersion, such as range, variance, and standard deviation, are used to describe the spread or variability within a dataset. These measures help to understand how much the data values differ from each other and from the central tendency (mean, median, or mode).\n",
    "\n",
    "# Range\n",
    "# Definition: The range is the difference between the maximum and minimum values in a dataset.\n",
    "# Range\n",
    "# =\n",
    "# Maximum value\n",
    "# −\n",
    "# Minimum value\n",
    "# Range=Maximum value−Minimum value\n",
    "\n",
    "# Usage:\n",
    "\n",
    "# The range provides a quick sense of the extent of spread in the data.\n",
    "# It is easy to compute but only considers the two extreme values, making it sensitive to outliers.\n",
    "# Variance\n",
    "# Definition: The variance measures the average squared deviation of each data point from the mean. It gives a sense of how much the values in the dataset vary.\n",
    "\n",
    "\n",
    "# Usage:\n",
    "\n",
    "# Variance provides a measure of how data points spread out around the mean.\n",
    "# It is used in statistical calculations and advanced data analysis.\n",
    "# Because it squares the deviations, it gives more weight to extreme values, making it sensitive to outliers.\n",
    "# Standard Deviation\n",
    "# Definition: The standard deviation is the square root of the variance. It brings the unit of measurement back to the same unit as the data.\n",
    "# Standard Deviation\n",
    "# (\n",
    "# 𝜎\n",
    "# )\n",
    "# =\n",
    "# Variance\n",
    "# Standard Deviation(σ)= \n",
    "# Variance\n",
    "\n",
    " \n",
    "\n",
    "# Usage:\n",
    "\n",
    "# Standard deviation is widely used because it is easier to interpret than variance.\n",
    "# It indicates how much the values in a dataset typically deviate from the mean.\n",
    "# Like variance, it is sensitive to outliers but is easier to relate to the original data.\n",
    "\n",
    "#  ≈7.07\n",
    "# Interpretation\n",
    "# Range: The exam scores vary by 20 points from the lowest to the highest score.\n",
    "# Variance: The average squared deviation from the mean score of 80 is 50, indicating the degree of spread around the mean.\n",
    "# Standard Deviation: On average, the exam scores deviate by about 7.07 points from the mean score of 80.\n",
    "# These measures together provide a comprehensive picture of the dataset’s distribution: the range gives a quick sense of the overall spread, the variance quantifies the degree of spread around the mean, and the standard deviation provides an interpretable measure of this spread in the same units as the original data."
   ]
  },
  {
   "cell_type": "code",
   "execution_count": null,
   "id": "233302f2",
   "metadata": {},
   "outputs": [],
   "source": [
    "#Q6"
   ]
  },
  {
   "cell_type": "code",
   "execution_count": null,
   "id": "8d5e77a8",
   "metadata": {},
   "outputs": [],
   "source": [
    "\n",
    "# A Venn diagram is a visual representation used to show the relationships between different sets. It consists of overlapping circles, with each circle representing a set. The overlapping regions between the circles illustrate the common elements shared by the sets, while the non-overlapping parts represent the elements that are unique to each set.\n",
    "\n",
    "# Key Components of a Venn Diagram\n",
    "# Circles: Each circle represents a set.\n",
    "# Overlapping Areas: The areas where circles overlap represent the elements that are common to the intersecting sets.\n",
    "# Non-overlapping Areas: The areas that do not overlap represent the elements that are unique to each set.\n",
    "# Universal Set: Often, a rectangle or some boundary around the entire diagram represents the universal set, which includes all possible elements under consideration.\n",
    "# Uses of Venn Diagrams\n",
    "# Mathematics and Logic: To illustrate concepts of set theory, such as unions, intersections, and complements.\n",
    "# Statistics: To visualize probabilities and relationships between events.\n",
    "# Computer Science: To represent data structures and algorithms involving sets.\n",
    "# Problem Solving and Reasoning: To organize information and explore logical relationships and intersections.\n",
    "# Education: To help students understand and visualize abstract concepts"
   ]
  },
  {
   "cell_type": "code",
   "execution_count": null,
   "id": "7171bb14",
   "metadata": {},
   "outputs": [],
   "source": [
    "#Q7\n",
    "\n",
    "# 1. (2,6)\n",
    "# 2.(0,2,3,4,5,6,7,8,10)"
   ]
  },
  {
   "cell_type": "code",
   "execution_count": null,
   "id": "e5c2eef2",
   "metadata": {},
   "outputs": [],
   "source": [
    "#Q8"
   ]
  },
  {
   "cell_type": "code",
   "execution_count": null,
   "id": "692c7d94",
   "metadata": {},
   "outputs": [],
   "source": [
    "\n",
    "# Skewness is a measure of the asymmetry or lack of symmetry in the distribution of data. It indicates the extent to which a dataset deviates from a normal distribution, which is perfectly symmetrical. Understanding skewness helps in identifying the direction and degree of asymmetry in the data, which can have implications for statistical analysis and interpretation.\n",
    "\n",
    "# Types of Skewness\n",
    "# Positive Skewness (Right Skewness):\n",
    "\n",
    "# The right tail (higher values) is longer or fatter than the left tail.\n",
    "# Most data values are concentrated on the left side, with the mean and median to the right of the mode.\n",
    "# Example: Income distribution in many societies, where a small number of people have extremely high incomes.\n",
    "# Negative Skewness (Left Skewness):\n",
    "\n",
    "# The left tail (lower values) is longer or fatter than the right tail.\n",
    "# Most data values are concentrated on the right side, with the mean and median to the left of the mode.\n",
    "# Example: Age at retirement, where most people retire around a certain age, but a few retire much earlier.\n",
    "# Zero Skewness:\n",
    "\n",
    "# The data is perfectly symmetrical.\n",
    "# The mean, median, and mode are all equal.\n",
    "# Example: Idealized normal distribution."
   ]
  },
  {
   "cell_type": "code",
   "execution_count": null,
   "id": "68dab1d0",
   "metadata": {},
   "outputs": [],
   "source": [
    "#Q9"
   ]
  },
  {
   "cell_type": "code",
   "execution_count": null,
   "id": "b5d0a9cd",
   "metadata": {},
   "outputs": [],
   "source": [
    "\n",
    "# In a right-skewed (positively skewed) distribution, the position of the median relative to the mean will typically be as follows:\n",
    "\n",
    "# The mean will be greater than the median.\n",
    "# This occurs because the right skewness implies that there are a few unusually high values (outliers) that pull the mean to the right, towards the longer tail of the distribution. The median, which is the middle value of the dataset, is less affected by these extreme values and tends to remain closer to the bulk of the data"
   ]
  },
  {
   "cell_type": "code",
   "execution_count": null,
   "id": "872a09d4",
   "metadata": {},
   "outputs": [],
   "source": [
    "#Q10"
   ]
  },
  {
   "cell_type": "code",
   "execution_count": null,
   "id": "548bd17f",
   "metadata": {},
   "outputs": [],
   "source": [
    "# Covariance and correlation are both measures used to describe the relationship between two variables. While they are related concepts, they have distinct differences in their interpretation, scale, and usage in statistical analysis.\n",
    "\n",
    "# Covariance\n",
    "# Definition: Covariance measures the degree to which two variables change together. If the variables tend to increase together, the covariance is positive. If one variable tends to increase when the other decreases, the covariance is negative.\n",
    "# Definition: Correlation measures both the strength and direction of a linear relationship between two variables, standardizing the measure of covariance to be dimensionless.\n",
    "\n",
    "# The most common correlation measure is the Pearson correlation coefficient:\n",
    "# Positive Correlation: Indicates that as one variable increases, the other tends to increase.\n",
    "# Negative Correlation: Indicates that as one variable increases, the other tends to decrease.\n",
    "# Scale: Correlation is unitless, providing a standardized measure that is easier to interpret."
   ]
  },
  {
   "cell_type": "code",
   "execution_count": null,
   "id": "f1c15611",
   "metadata": {},
   "outputs": [],
   "source": [
    "#Q11"
   ]
  },
  {
   "cell_type": "code",
   "execution_count": null,
   "id": "d0cb0d1b",
   "metadata": {},
   "outputs": [],
   "source": [
    "# he formula for calculating the sample mean (\n",
    "# 𝑥\n",
    "# ˉ\n",
    "# x\n",
    "# ˉ\n",
    "#  ) is:\n",
    "\n",
    "# 𝑥\n",
    "# ˉ\n",
    "# =\n",
    "# ∑\n",
    "# 𝑖\n",
    "# =\n",
    "# 1\n",
    "# 𝑛\n",
    "# 𝑥\n",
    "# 𝑖\n",
    "# 𝑛\n",
    "# x\n",
    "# ˉ\n",
    "#  = \n",
    "# n\n",
    "# ∑ \n",
    "# i=1\n",
    "# n\n",
    "# ​\n",
    "#  x \n",
    "# i\n",
    "# ​\n",
    " \n",
    "# ​\n",
    " \n",
    "\n",
    "# where:\n",
    "\n",
    "# 𝑥\n",
    "# 𝑖\n",
    "# x \n",
    "# i\n",
    "# ​\n",
    "#   represents each individual data point in the sample.\n",
    "# 𝑛\n",
    "# n is the number of data points in the sample."
   ]
  },
  {
   "cell_type": "code",
   "execution_count": null,
   "id": "6e1dd705",
   "metadata": {},
   "outputs": [],
   "source": [
    "#Q12"
   ]
  },
  {
   "cell_type": "code",
   "execution_count": null,
   "id": "ab9f5f39",
   "metadata": {},
   "outputs": [],
   "source": [
    "# For a normal distribution, the measures of central tendency—the mean, median, and mode—are all equal and located at the center of the distribution. This characteristic is one of the defining properties of a normal distribution.\n",
    "\n",
    "# Key Points\n",
    "# Mean: The arithmetic average of all the data points. In a normal distribution, it is the point of symmetry around which the data is distributed.\n",
    "\n",
    "# Median: The middle value when the data points are arranged in ascending or descending order. For a normal distribution, the median divides the dataset into two equal halves, with 50% of the data points lying below it and 50% above it.\n",
    "\n",
    "# Mode: The most frequently occurring value in the dataset. In a normal distribution, the mode is at the peak of the bell curve, indicating the value that appears most often.\n",
    "\n",
    "# Relationship\n",
    "# In a perfectly normal distribution:\n",
    "# Mean\n",
    "# =\n",
    "# Median\n",
    "# =\n",
    "# Mode\n",
    "# Mean=Median=Mode"
   ]
  },
  {
   "cell_type": "code",
   "execution_count": null,
   "id": "0a92d3ef",
   "metadata": {},
   "outputs": [],
   "source": [
    "#Q14"
   ]
  },
  {
   "cell_type": "code",
   "execution_count": null,
   "id": "8395475f",
   "metadata": {},
   "outputs": [],
   "source": [
    "# Outliers are extreme values that differ significantly from other observations in a dataset. They can have a substantial impact on measures of central tendency (mean, median, and mode) and measures of dispersion (range, variance, and standard deviation).\n",
    "\n",
    "# Effects on Measures of Central Tendency\n",
    "# Mean:\n",
    "\n",
    "# Outliers can significantly affect the mean because the mean is calculated by summing all the values and dividing by the number of values.\n",
    "# An outlier can skew the mean towards the extreme value, making it less representative of the overall data.\n",
    "# Median:\n",
    "\n",
    "# The median is less affected by outliers because it is the middle value of a dataset.\n",
    "# Since the median depends only on the order of the data, a single extreme value does not influence it as much.\n",
    "# Mode:\n",
    "\n",
    "# The mode, which is the most frequently occurring value, is generally unaffected by outliers unless the outlier appears frequently enough to become the mode.\n",
    "# Effects on Measures of Dispersion\n",
    "# Range:\n",
    "\n",
    "# The range is highly sensitive to outliers because it is calculated as the difference between the maximum and minimum values in the dataset.\n",
    "# An extreme outlier will increase the range significantly.\n",
    "# Variance and Standard Deviation:\n",
    "\n",
    "# Both variance and standard deviation measure the spread of data points around the mean.\n",
    "# Outliers increase the squared deviations from the mean, leading to higher variance and standard deviation.\n",
    "# These measures become larger, indicating more variability in the data due to the outlier."
   ]
  },
  {
   "cell_type": "code",
   "execution_count": null,
   "id": "01b4dd35",
   "metadata": {},
   "outputs": [],
   "source": [
    "#Q13"
   ]
  },
  {
   "cell_type": "code",
   "execution_count": null,
   "id": "52c1bbc9",
   "metadata": {},
   "outputs": [],
   "source": [
    "# Covariance and correlation are both measures used to quantify the relationship between two variables, but they differ in their interpretation, scale, and normalization."
   ]
  },
  {
   "cell_type": "code",
   "execution_count": null,
   "id": "c54a90a7",
   "metadata": {},
   "outputs": [],
   "source": []
  },
  {
   "cell_type": "code",
   "execution_count": null,
   "id": "2451cf6f",
   "metadata": {},
   "outputs": [],
   "source": []
  },
  {
   "cell_type": "code",
   "execution_count": null,
   "id": "4d0fc216",
   "metadata": {},
   "outputs": [],
   "source": []
  }
 ],
 "metadata": {
  "kernelspec": {
   "display_name": "Python 3",
   "language": "python",
   "name": "python3"
  },
  "language_info": {
   "codemirror_mode": {
    "name": "ipython",
    "version": 3
   },
   "file_extension": ".py",
   "mimetype": "text/x-python",
   "name": "python",
   "nbconvert_exporter": "python",
   "pygments_lexer": "ipython3",
   "version": "3.11.3"
  }
 },
 "nbformat": 4,
 "nbformat_minor": 5
}
